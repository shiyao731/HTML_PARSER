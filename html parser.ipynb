{
 "cells": [
  {
   "cell_type": "code",
   "execution_count": 329,
   "metadata": {},
   "outputs": [],
   "source": [
    "import pandas as pd"
   ]
  },
  {
   "cell_type": "code",
   "execution_count": 53,
   "metadata": {
    "scrolled": true
   },
   "outputs": [],
   "source": [
    "with open(\"test.txt\",\"r\") as f:\n",
    "    content = f.read()"
   ]
  },
  {
   "cell_type": "code",
   "execution_count": 54,
   "metadata": {},
   "outputs": [
    {
     "name": "stdout",
     "output_type": "stream",
     "text": [
      "{\"xRequest\":2088339,\"fOpenedVia\":\"Web Service\",\"xOpenedViaId\":0,\"xPortal\":0,\"xMailboxToSendFrom\":0,\"xPersonOpenedBy\":\"\",\"xPersonAssignedTo\":\"RPA Automation\",\"fOpen\":1,\"xStatus\":\"Active\",\"fUrgent\":0,\"xCategory\":null,\"dtGMTOpened\":\"Jul 17, 2019\",\"dtGMTClosed\":\"\",\"iLastReplyBy\":0,\"fTrash\":0,\"dtGMTTrashed\":\"\",\"sRequestPassword\":\"thomqr\",\"sTitle\":\"Re: Billing Assessments Form - BMC - 1 Demo Association\",\"sUserId\":\"\",\"sFirstName\":\"Tim\",\"sLastName\":\"Rettich\",\"sEmail\":\"trettich@associaonline.com\",\"sPhone\":\"\",\"Custom1\":\"\",\"Custom5\":\"\",\"Custom6\":\"\",\"Custom7\":\"\",\"Custom8\":\"\",\"Custom9\":\"\",\"Custom10\":0,\"Custom11\":\"\",\"Custom12\":\"\",\"Custom14\":\"\",\"Custom15\":\"\",\"Custom17\":\"\",\"Custom18\":\"\",\"Custom19\":\"\",\"Custom20\":\"\",\"Custom21\":\"\",\"Custom22\":\"\",\"Custom23\":\"\",\"Custom24\":\"\",\"Custom25\":\"\",\"Custom26\":\"\",\"Custom27\":\"\",\"Custom28\":0,\"Custom29\":0,\"Custom30\":\"\",\"Custom31\":\"\",\"Custom32\":\"\",\"Custom33\":\"\",\"Custom34\":\"\",\"Custom35\":0,\"Custom36\":0,\"Custom37\":\"\",\"Custom38\":0,\"Custom39\":\"\",\"Custom41\":0,\"Custom42\":\"\",\"Custom43\":\"\",\"Custom44\":\"\",\"Custom45\":\"\",\"Custom47\":\"\",\"Custom48\":0,\"Custom49\":\"\",\"Custom50\":\"\",\"Custom51\":\"\",\"Custom52\":\"\",\"Custom55\":\"\",\"Custom56\":\"\",\"Custom57\":\"\",\"Custom58\":\"\",\"Custom63\":\"\",\"Custom65\":\"\",\"Custom66\":\"\",\"Custom67\":\"\",\"Custom68\":\"\",\"Custom69\":\"\",\"Custom70\":\".00\",\"Custom71\":\"\",\"Custom72\":\"\",\"Custom73\":\"\",\"Custom74\":\"\",\"Custom75\":\"\",\"Custom76\":\"\",\"Custom77\":\"\",\"Custom80\":\"\",\"Custom81\":\"\",\"Custom82\":\"\",\"fullname\":\"Tim Rettich\",\"request_history\":{\"item\":{\"16447665\":{\"xRequestHistory\":16447665,\"xRequest\":2088339,\"xPerson\":\"RPA Automation\",\"dtGMTChange\":\"Jul 23 2019, 08:29 AM\",\"fPublic\":0,\"fInitial\":0,\"fNoteIsHTML\":0,\"fMergedFromRequest\":0,\"tLog\":\"Request Changed:\",\"tNote\":\"<div class=\\\"note-stream-item-logtext\\\">Request Changed:<\\/div>\",\"tEmailHeaders\":\"\",\"fPinned\":0,\"sCID\":null,\"external\":0,\"person_type\":\"staff\",\"files\":[]},\"16447662\":{\"xRequestHistory\":16447662,\"xRequest\":2088339,\"xPerson\":\"RPA Automation\",\"dtGMTChange\":\"Jul 23 2019, 08:29 AM\",\"fPublic\":0,\"fInitial\":0,\"fNoteIsHTML\":1,\"fMergedFromRequest\":0,\"tLog\":\"a:6:{s:7:\\\"ccstaff\\\";N;s:12:\\\"emailccgroup\\\";N;s:13:\\\"emailbccgroup\\\";N;s:12:\\\"emailtogroup\\\";N;s:6:\\\"sTitle\\\";s:55:\\\"Re: Billing Assessments Form - BMC - 1 Demo Association\\\";s:13:\\\"customeremail\\\";s:0:\\\"\\\";}\",\"tNote\":\"<p>Please review and Approve<\\/p>\",\"tEmailHeaders\":\"\",\"fPinned\":0,\"sCID\":null,\"external\":0,\"person_type\":\"staff\",\"files\":{\"file\":[{\"sFileMimeType\":\".xlsx\",\"sFilename\":\"Country Walk - Unit Detail Listing.pdf\",\"sCID\":\"\",\"xDocumentId\":5244663,\"public_url\":\"\",\"private_url\":\"http:\\/\\/helpspotdev.dev.associa.corp:80\\/helpspot\\/admin.php?pg=file&from=0&id=5244663&showfullsize=1&download=1\"},{\"sFileMimeType\":\".xlsx\",\"sFilename\":\"Country Walk - Community Recurring Charge.pdf\",\"sCID\":\"\",\"xDocumentId\":5244662,\"public_url\":\"\",\"private_url\":\"http:\\/\\/helpspotdev.dev.associa.corp:80\\/helpspot\\/admin.php?pg=file&from=0&id=5244662&showfullsize=1&download=1\"}]}},\"16447660\":{\"xRequestHistory\":16447660,\"xRequest\":2088339,\"xPerson\":\"RPA Automation\",\"dtGMTChange\":\"Jul 23 2019, 04:22 AM\",\"fPublic\":0,\"fInitial\":0,\"fNoteIsHTML\":0,\"fMergedFromRequest\":0,\"tLog\":\"Request Changed:\",\"tNote\":\"<div class=\\\"note-stream-item-logtext\\\">Request Changed:<\\/div><div class=\\\"note-stream-item-logtext\\\">Email subject changed from &quot;Billing Assessments Form - BMC - 1 Demo Association&quot; to &quot;Re: Billing Assessments Form - BMC - 1 Demo Association&quot;<\\/div><div class=\\\"note-stream-item-logtext\\\">Custom field &quot;Community Name&quot; changed from &quot;&quot; to &quot;Country walk&quot;<\\/div><div class=\\\"note-stream-item-logtext\\\">Custom field &quot;Reason Code - BIL - Billing&quot; changed from &quot;&quot; to &quot;Add Assessment Amount&quot;<\\/div>\",\"tEmailHeaders\":\"\",\"fPinned\":0,\"sCID\":null,\"external\":0,\"person_type\":\"staff\",\"files\":[]},\"16447659\":{\"xRequestHistory\":16447659,\"xRequest\":2088339,\"xPerson\":\"RPA Automation\",\"dtGMTChange\":\"Jul 23 2019, 04:22 AM\",\"fPublic\":0,\"fInitial\":0,\"fNoteIsHTML\":1,\"fMergedFromRequest\":0,\"tLog\":\"a:6:{s:7:\\\"ccstaff\\\";s:0:\\\"\\\";s:12:\\\"emailccgroup\\\";s:0:\\\"\\\";s:13:\\\"emailbccgroup\\\";s:0:\\\"\\\";s:12:\\\"emailtogroup\\\";s:0:\\\"\\\";s:6:\\\"sTitle\\\";s:55:\\\"Re: Billing Assessments Form - BMC - 1 Demo Association\\\";s:13:\\\"customeremail\\\";s:0:\\\"\\\";}\",\"tNote\":\"<p>\\r\\nPlease\\r\\n<\\/p>\",\"tEmailHeaders\":\"\",\"fPinned\":0,\"sCID\":null,\"external\":0,\"person_type\":\"staff\",\"files\":{\"file\":[{\"sFileMimeType\":\"application\\/vnd.openxmlformats-officedocument.spreadsheetml.sheet\",\"sFilename\":\"CSSCInput1.xlsx\",\"sCID\":\"\",\"xDocumentId\":5244661,\"public_url\":\"\",\"private_url\":\"http:\\/\\/helpspotdev.dev.associa.corp:80\\/helpspot\\/admin.php?pg=file&from=0&id=5244661&showfullsize=1&download=1\"}]}},\"16447600\":{\"xRequestHistory\":16447600,\"xRequest\":2088339,\"xPerson\":\"Tim Rettich\",\"dtGMTChange\":\"Jul 17 2019, 07:03 PM\",\"fPublic\":1,\"fInitial\":1,\"fNoteIsHTML\":1,\"fMergedFromRequest\":0,\"tNote\":\"<h3 style=\\\"margin-top:15px;font-weight:bold;\\\">Billing Assessments Form<\\/h3><table><tbody><tr><td><b>Submitted By<\\/b><\\/td><td style=\\\"min-width:100px;padding-left:10px;\\\">Tim Rettich<\\/td><\\/tr><tr><td><b>Submitted On<\\/b><\\/td><td style=\\\"min-width:100px;padding-left:10px;\\\">7\\/17\\/2019 5:03:31 PM Central Time<\\/td><\\/tr><tr><td><b>Branch<\\/b><\\/td><td style=\\\"min-width:100px;padding-left:10px;\\\">BMC<\\/td><\\/tr><tr><td><b>Branch Id<\\/b><\\/td><td style=\\\"min-width:100px;padding-left:10px;\\\">83<\\/td><\\/tr><tr><td><b>Association<\\/b><\\/td><td style=\\\"min-width:100px;padding-left:10px;\\\">1 Demo Association<\\/td><\\/tr><tr><td><b>Association Id<\\/b><\\/td><td style=\\\"min-width:100px;padding-left:10px;\\\">9999<\\/td><\\/tr><\\/tbody><\\/table><div><br><h3 style=\\\"margin-top:15px;font-weight:bold;\\\">CSSC Billing Form<\\/h3><table><tr><td><b>Do I need a proof before my order is mailed?<\\/b><\\/td><\\/tr><tr><td style=\\\"padding-bottom:10px;\\\">I would like to approve my order before it is mailed. Please send me a copy of my order's proof for approval.<\\/td><\\/tr><tr><td><b>Type of Request- I am submitting<\\/b><\\/td><\\/tr><tr><td style=\\\"padding-bottom:10px;\\\">Recurring charges for a new association<\\/td><\\/tr><tr><td><b>Assessment Start Date<\\/b><\\/td><\\/tr><tr><td style=\\\"padding-bottom:10px;\\\">2019-8-1<\\/td><\\/tr><tr><td><b>Assessment End Date<\\/b><\\/td><\\/tr><tr><td style=\\\"padding-bottom:10px;\\\">2019-7-18<\\/td><\\/tr><tr><td><b>Billing Frequency<\\/b><\\/td><\\/tr><tr><td style=\\\"padding-bottom:10px;\\\">Quarterly<\\/td><\\/tr><tr><td><b>Billing Method<\\/b><\\/td><\\/tr><tr><td style=\\\"padding-bottom:10px;\\\">Statements<\\/td><\\/tr><tr><td><b>Additional Details<\\/b><\\/td><\\/tr><tr><td style=\\\"padding-bottom:10px;\\\">Ending Recurring Charges and not restarting.<\\/td><\\/tr><tr><td><b>Charge Type<\\/b><\\/td><\\/tr><tr><td style=\\\"padding-bottom:10px;\\\">Admin Fee - Demand\\/Arrears    <\\/td><\\/tr><\\/table><h3 style=\\\"margin-top:15px;font-weight:bold;\\\">Unit Types<\\/h3><table style=\\\"border:1px solid #E0E0E0;\\\"><tr><td style=\\\"min-width:25px;border-right:1px solid #E0E0E0;padding:0px 2px 0px 2px;\\\"><b>Unit Type<\\/b><\\/td><td style=\\\"min-width:25px;border-right:1px solid #E0E0E0;padding:0px 2px 0px 2px;\\\"><b>Assessment Amount<\\/b><\\/td><td style=\\\"min-width:25px;border-right:1px solid #E0E0E0;padding:0px 2px 0px 2px;\\\"><b># of Units<\\/b><\\/td><td style=\\\"min-width:25px;border-right:1px solid #E0E0E0;padding:0px 2px 0px 2px;\\\"><b>Paid by Direct Debit?<\\/b><\\/td><td style=\\\"min-width:25px;border-right:1px solid #E0E0E0;padding:0px 2px 0px 2px;\\\"><b>Total<\\/b><\\/td><\\/tr><tr><td style=\\\"min-width:25px;border-right:1px solid #E0E0E0;padding:0px 2px 0px 2px;\\\">Unit Type 001 <\\/td><td style=\\\"min-width:25px;border-right:1px solid #E0E0E0;padding:0px 2px 0px 2px;\\\">1<\\/td><td style=\\\"min-width:25px;border-right:1px solid #E0E0E0;padding:0px 2px 0px 2px;\\\">5<\\/td><td style=\\\"min-width:25px;border-right:1px solid #E0E0E0;padding:0px 2px 0px 2px;\\\">False<\\/td><td style=\\\"min-width:25px;border-right:1px solid #E0E0E0;padding:0px 2px 0px 2px;\\\">$5.00<\\/td><\\/tr><tr><td style=\\\"min-width:25px;border-right:1px solid #E0E0E0;padding:0px 2px 0px 2px;\\\">Unit Type 002 <\\/td><td style=\\\"min-width:25px;border-right:1px solid #E0E0E0;padding:0px 2px 0px 2px;\\\">2<\\/td><td style=\\\"min-width:25px;border-right:1px solid #E0E0E0;padding:0px 2px 0px 2px;\\\">4<\\/td><td style=\\\"min-width:25px;border-right:1px solid #E0E0E0;padding:0px 2px 0px 2px;\\\">False<\\/td><td style=\\\"min-width:25px;border-right:1px solid #E0E0E0;padding:0px 2px 0px 2px;\\\">$8.00<\\/td><\\/tr><tr><td style=\\\"min-width:25px;border-right:1px solid #E0E0E0;padding:0px 2px 0px 2px;\\\">Unit Type 002 -PARKING<\\/td><td style=\\\"min-width:25px;border-right:1px solid #E0E0E0;padding:0px 2px 0px 2px;\\\">3.5<\\/td><td style=\\\"min-width:25px;border-right:1px solid #E0E0E0;padding:0px 2px 0px 2px;\\\">1<\\/td><td style=\\\"min-width:25px;border-right:1px solid #E0E0E0;padding:0px 2px 0px 2px;\\\">False<\\/td><td style=\\\"min-width:25px;border-right:1px solid #E0E0E0;padding:0px 2px 0px 2px;\\\">$3.50<\\/td><\\/tr><\\/table><table><tr><td><b>Total Per Cycle Billing Amount<\\/b><\\/td><\\/tr><tr><td style=\\\"padding-bottom:10px;\\\">$16.5<\\/td><\\/tr><tr><td><b>Total Unit Count<\\/b><\\/td><\\/tr><tr><td style=\\\"padding-bottom:10px;\\\">10<\\/td><\\/tr><\\/table><\\/div><h3 style=\\\"margin-top:15px;font-weight:bold;\\\">Notes<\\/h3>test\",\"tEmailHeaders\":\"\",\"fPinned\":0,\"sCID\":null,\"cc\":null,\"bcc\":null,\"to\":null,\"staff_notified\":[\"\"],\"external\":0,\"person_type\":\"customer\",\"files\":[]}}}}\n"
     ]
    }
   ],
   "source": [
    "print(content)"
   ]
  },
  {
   "cell_type": "code",
   "execution_count": 55,
   "metadata": {},
   "outputs": [],
   "source": [
    "import json as js"
   ]
  },
  {
   "cell_type": "code",
   "execution_count": 56,
   "metadata": {},
   "outputs": [],
   "source": [
    "HS_Json = js.loads(content)"
   ]
  },
  {
   "cell_type": "code",
   "execution_count": 57,
   "metadata": {},
   "outputs": [],
   "source": [
    "request_content = HS_Json['request_history']['item']"
   ]
  },
  {
   "cell_type": "code",
   "execution_count": 189,
   "metadata": {},
   "outputs": [
    {
     "data": {
      "text/plain": [
       "{'16447665': {'xRequestHistory': 16447665,\n",
       "  'xRequest': 2088339,\n",
       "  'xPerson': 'RPA Automation',\n",
       "  'dtGMTChange': 'Jul 23 2019, 08:29 AM',\n",
       "  'fPublic': 0,\n",
       "  'fInitial': 0,\n",
       "  'fNoteIsHTML': 0,\n",
       "  'fMergedFromRequest': 0,\n",
       "  'tLog': 'Request Changed:',\n",
       "  'tNote': '<div class=\"note-stream-item-logtext\">Request Changed:</div>',\n",
       "  'tEmailHeaders': '',\n",
       "  'fPinned': 0,\n",
       "  'sCID': None,\n",
       "  'external': 0,\n",
       "  'person_type': 'staff',\n",
       "  'files': []},\n",
       " '16447662': {'xRequestHistory': 16447662,\n",
       "  'xRequest': 2088339,\n",
       "  'xPerson': 'RPA Automation',\n",
       "  'dtGMTChange': 'Jul 23 2019, 08:29 AM',\n",
       "  'fPublic': 0,\n",
       "  'fInitial': 0,\n",
       "  'fNoteIsHTML': 1,\n",
       "  'fMergedFromRequest': 0,\n",
       "  'tLog': 'a:6:{s:7:\"ccstaff\";N;s:12:\"emailccgroup\";N;s:13:\"emailbccgroup\";N;s:12:\"emailtogroup\";N;s:6:\"sTitle\";s:55:\"Re: Billing Assessments Form - BMC - 1 Demo Association\";s:13:\"customeremail\";s:0:\"\";}',\n",
       "  'tNote': '<p>Please review and Approve</p>',\n",
       "  'tEmailHeaders': '',\n",
       "  'fPinned': 0,\n",
       "  'sCID': None,\n",
       "  'external': 0,\n",
       "  'person_type': 'staff',\n",
       "  'files': {'file': [{'sFileMimeType': '.xlsx',\n",
       "     'sFilename': 'Country Walk - Unit Detail Listing.pdf',\n",
       "     'sCID': '',\n",
       "     'xDocumentId': 5244663,\n",
       "     'public_url': '',\n",
       "     'private_url': 'http://helpspotdev.dev.associa.corp:80/helpspot/admin.php?pg=file&from=0&id=5244663&showfullsize=1&download=1'},\n",
       "    {'sFileMimeType': '.xlsx',\n",
       "     'sFilename': 'Country Walk - Community Recurring Charge.pdf',\n",
       "     'sCID': '',\n",
       "     'xDocumentId': 5244662,\n",
       "     'public_url': '',\n",
       "     'private_url': 'http://helpspotdev.dev.associa.corp:80/helpspot/admin.php?pg=file&from=0&id=5244662&showfullsize=1&download=1'}]}},\n",
       " '16447660': {'xRequestHistory': 16447660,\n",
       "  'xRequest': 2088339,\n",
       "  'xPerson': 'RPA Automation',\n",
       "  'dtGMTChange': 'Jul 23 2019, 04:22 AM',\n",
       "  'fPublic': 0,\n",
       "  'fInitial': 0,\n",
       "  'fNoteIsHTML': 0,\n",
       "  'fMergedFromRequest': 0,\n",
       "  'tLog': 'Request Changed:',\n",
       "  'tNote': '<div class=\"note-stream-item-logtext\">Request Changed:</div><div class=\"note-stream-item-logtext\">Email subject changed from &quot;Billing Assessments Form - BMC - 1 Demo Association&quot; to &quot;Re: Billing Assessments Form - BMC - 1 Demo Association&quot;</div><div class=\"note-stream-item-logtext\">Custom field &quot;Community Name&quot; changed from &quot;&quot; to &quot;Country walk&quot;</div><div class=\"note-stream-item-logtext\">Custom field &quot;Reason Code - BIL - Billing&quot; changed from &quot;&quot; to &quot;Add Assessment Amount&quot;</div>',\n",
       "  'tEmailHeaders': '',\n",
       "  'fPinned': 0,\n",
       "  'sCID': None,\n",
       "  'external': 0,\n",
       "  'person_type': 'staff',\n",
       "  'files': []},\n",
       " '16447659': {'xRequestHistory': 16447659,\n",
       "  'xRequest': 2088339,\n",
       "  'xPerson': 'RPA Automation',\n",
       "  'dtGMTChange': 'Jul 23 2019, 04:22 AM',\n",
       "  'fPublic': 0,\n",
       "  'fInitial': 0,\n",
       "  'fNoteIsHTML': 1,\n",
       "  'fMergedFromRequest': 0,\n",
       "  'tLog': 'a:6:{s:7:\"ccstaff\";s:0:\"\";s:12:\"emailccgroup\";s:0:\"\";s:13:\"emailbccgroup\";s:0:\"\";s:12:\"emailtogroup\";s:0:\"\";s:6:\"sTitle\";s:55:\"Re: Billing Assessments Form - BMC - 1 Demo Association\";s:13:\"customeremail\";s:0:\"\";}',\n",
       "  'tNote': '<p>\\r\\nPlease\\r\\n</p>',\n",
       "  'tEmailHeaders': '',\n",
       "  'fPinned': 0,\n",
       "  'sCID': None,\n",
       "  'external': 0,\n",
       "  'person_type': 'staff',\n",
       "  'files': {'file': [{'sFileMimeType': 'application/vnd.openxmlformats-officedocument.spreadsheetml.sheet',\n",
       "     'sFilename': 'CSSCInput1.xlsx',\n",
       "     'sCID': '',\n",
       "     'xDocumentId': 5244661,\n",
       "     'public_url': '',\n",
       "     'private_url': 'http://helpspotdev.dev.associa.corp:80/helpspot/admin.php?pg=file&from=0&id=5244661&showfullsize=1&download=1'}]}},\n",
       " '16447600': {'xRequestHistory': 16447600,\n",
       "  'xRequest': 2088339,\n",
       "  'xPerson': 'Tim Rettich',\n",
       "  'dtGMTChange': 'Jul 17 2019, 07:03 PM',\n",
       "  'fPublic': 1,\n",
       "  'fInitial': 1,\n",
       "  'fNoteIsHTML': 1,\n",
       "  'fMergedFromRequest': 0,\n",
       "  'tNote': '<h3 style=\"margin-top:15px;font-weight:bold;\">Billing Assessments Form</h3><table><tbody><tr><td><b>Submitted By</b></td><td style=\"min-width:100px;padding-left:10px;\">Tim Rettich</td></tr><tr><td><b>Submitted On</b></td><td style=\"min-width:100px;padding-left:10px;\">7/17/2019 5:03:31 PM Central Time</td></tr><tr><td><b>Branch</b></td><td style=\"min-width:100px;padding-left:10px;\">BMC</td></tr><tr><td><b>Branch Id</b></td><td style=\"min-width:100px;padding-left:10px;\">83</td></tr><tr><td><b>Association</b></td><td style=\"min-width:100px;padding-left:10px;\">1 Demo Association</td></tr><tr><td><b>Association Id</b></td><td style=\"min-width:100px;padding-left:10px;\">9999</td></tr></tbody></table><div><br><h3 style=\"margin-top:15px;font-weight:bold;\">CSSC Billing Form</h3><table><tr><td><b>Do I need a proof before my order is mailed?</b></td></tr><tr><td style=\"padding-bottom:10px;\">I would like to approve my order before it is mailed. Please send me a copy of my order\\'s proof for approval.</td></tr><tr><td><b>Type of Request- I am submitting</b></td></tr><tr><td style=\"padding-bottom:10px;\">Recurring charges for a new association</td></tr><tr><td><b>Assessment Start Date</b></td></tr><tr><td style=\"padding-bottom:10px;\">2019-8-1</td></tr><tr><td><b>Assessment End Date</b></td></tr><tr><td style=\"padding-bottom:10px;\">2019-7-18</td></tr><tr><td><b>Billing Frequency</b></td></tr><tr><td style=\"padding-bottom:10px;\">Quarterly</td></tr><tr><td><b>Billing Method</b></td></tr><tr><td style=\"padding-bottom:10px;\">Statements</td></tr><tr><td><b>Additional Details</b></td></tr><tr><td style=\"padding-bottom:10px;\">Ending Recurring Charges and not restarting.</td></tr><tr><td><b>Charge Type</b></td></tr><tr><td style=\"padding-bottom:10px;\">Admin Fee - Demand/Arrears    </td></tr></table><h3 style=\"margin-top:15px;font-weight:bold;\">Unit Types</h3><table style=\"border:1px solid #E0E0E0;\"><tr><td style=\"min-width:25px;border-right:1px solid #E0E0E0;padding:0px 2px 0px 2px;\"><b>Unit Type</b></td><td style=\"min-width:25px;border-right:1px solid #E0E0E0;padding:0px 2px 0px 2px;\"><b>Assessment Amount</b></td><td style=\"min-width:25px;border-right:1px solid #E0E0E0;padding:0px 2px 0px 2px;\"><b># of Units</b></td><td style=\"min-width:25px;border-right:1px solid #E0E0E0;padding:0px 2px 0px 2px;\"><b>Paid by Direct Debit?</b></td><td style=\"min-width:25px;border-right:1px solid #E0E0E0;padding:0px 2px 0px 2px;\"><b>Total</b></td></tr><tr><td style=\"min-width:25px;border-right:1px solid #E0E0E0;padding:0px 2px 0px 2px;\">Unit Type 001 </td><td style=\"min-width:25px;border-right:1px solid #E0E0E0;padding:0px 2px 0px 2px;\">1</td><td style=\"min-width:25px;border-right:1px solid #E0E0E0;padding:0px 2px 0px 2px;\">5</td><td style=\"min-width:25px;border-right:1px solid #E0E0E0;padding:0px 2px 0px 2px;\">False</td><td style=\"min-width:25px;border-right:1px solid #E0E0E0;padding:0px 2px 0px 2px;\">$5.00</td></tr><tr><td style=\"min-width:25px;border-right:1px solid #E0E0E0;padding:0px 2px 0px 2px;\">Unit Type 002 </td><td style=\"min-width:25px;border-right:1px solid #E0E0E0;padding:0px 2px 0px 2px;\">2</td><td style=\"min-width:25px;border-right:1px solid #E0E0E0;padding:0px 2px 0px 2px;\">4</td><td style=\"min-width:25px;border-right:1px solid #E0E0E0;padding:0px 2px 0px 2px;\">False</td><td style=\"min-width:25px;border-right:1px solid #E0E0E0;padding:0px 2px 0px 2px;\">$8.00</td></tr><tr><td style=\"min-width:25px;border-right:1px solid #E0E0E0;padding:0px 2px 0px 2px;\">Unit Type 002 -PARKING</td><td style=\"min-width:25px;border-right:1px solid #E0E0E0;padding:0px 2px 0px 2px;\">3.5</td><td style=\"min-width:25px;border-right:1px solid #E0E0E0;padding:0px 2px 0px 2px;\">1</td><td style=\"min-width:25px;border-right:1px solid #E0E0E0;padding:0px 2px 0px 2px;\">False</td><td style=\"min-width:25px;border-right:1px solid #E0E0E0;padding:0px 2px 0px 2px;\">$3.50</td></tr></table><table><tr><td><b>Total Per Cycle Billing Amount</b></td></tr><tr><td style=\"padding-bottom:10px;\">$16.5</td></tr><tr><td><b>Total Unit Count</b></td></tr><tr><td style=\"padding-bottom:10px;\">10</td></tr></table></div><h3 style=\"margin-top:15px;font-weight:bold;\">Notes</h3>test',\n",
       "  'tEmailHeaders': '',\n",
       "  'fPinned': 0,\n",
       "  'sCID': None,\n",
       "  'cc': None,\n",
       "  'bcc': None,\n",
       "  'to': None,\n",
       "  'staff_notified': [''],\n",
       "  'external': 0,\n",
       "  'person_type': 'customer',\n",
       "  'files': []}}"
      ]
     },
     "execution_count": 189,
     "metadata": {},
     "output_type": "execute_result"
    }
   ],
   "source": [
    "request_content"
   ]
  },
  {
   "cell_type": "code",
   "execution_count": 93,
   "metadata": {},
   "outputs": [],
   "source": [
    "for k, v in request_content.items():\n",
    "    if len(v['tNote']) > 1000:\n",
    "        html_table = v['tNote']\n"
   ]
  },
  {
   "cell_type": "code",
   "execution_count": 188,
   "metadata": {},
   "outputs": [
    {
     "data": {
      "text/plain": [
       "'<h3 style=\"margin-top:15px;font-weight:bold;\">Billing Assessments Form</h3><table><tbody><tr><td><b>Submitted By</b></td><td style=\"min-width:100px;padding-left:10px;\">Tim Rettich</td></tr><tr><td><b>Submitted On</b></td><td style=\"min-width:100px;padding-left:10px;\">7/17/2019 5:03:31 PM Central Time</td></tr><tr><td><b>Branch</b></td><td style=\"min-width:100px;padding-left:10px;\">BMC</td></tr><tr><td><b>Branch Id</b></td><td style=\"min-width:100px;padding-left:10px;\">83</td></tr><tr><td><b>Association</b></td><td style=\"min-width:100px;padding-left:10px;\">1 Demo Association</td></tr><tr><td><b>Association Id</b></td><td style=\"min-width:100px;padding-left:10px;\">9999</td></tr></tbody></table><div><br><h3 style=\"margin-top:15px;font-weight:bold;\">CSSC Billing Form</h3><table><tr><td><b>Do I need a proof before my order is mailed?</b></td></tr><tr><td style=\"padding-bottom:10px;\">I would like to approve my order before it is mailed. Please send me a copy of my order\\'s proof for approval.</td></tr><tr><td><b>Type of Request- I am submitting</b></td></tr><tr><td style=\"padding-bottom:10px;\">Recurring charges for a new association</td></tr><tr><td><b>Assessment Start Date</b></td></tr><tr><td style=\"padding-bottom:10px;\">2019-8-1</td></tr><tr><td><b>Assessment End Date</b></td></tr><tr><td style=\"padding-bottom:10px;\">2019-7-18</td></tr><tr><td><b>Billing Frequency</b></td></tr><tr><td style=\"padding-bottom:10px;\">Quarterly</td></tr><tr><td><b>Billing Method</b></td></tr><tr><td style=\"padding-bottom:10px;\">Statements</td></tr><tr><td><b>Additional Details</b></td></tr><tr><td style=\"padding-bottom:10px;\">Ending Recurring Charges and not restarting.</td></tr><tr><td><b>Charge Type</b></td></tr><tr><td style=\"padding-bottom:10px;\">Admin Fee - Demand/Arrears    </td></tr></table><h3 style=\"margin-top:15px;font-weight:bold;\">Unit Types</h3><table style=\"border:1px solid #E0E0E0;\"><tr><td style=\"min-width:25px;border-right:1px solid #E0E0E0;padding:0px 2px 0px 2px;\"><b>Unit Type</b></td><td style=\"min-width:25px;border-right:1px solid #E0E0E0;padding:0px 2px 0px 2px;\"><b>Assessment Amount</b></td><td style=\"min-width:25px;border-right:1px solid #E0E0E0;padding:0px 2px 0px 2px;\"><b># of Units</b></td><td style=\"min-width:25px;border-right:1px solid #E0E0E0;padding:0px 2px 0px 2px;\"><b>Paid by Direct Debit?</b></td><td style=\"min-width:25px;border-right:1px solid #E0E0E0;padding:0px 2px 0px 2px;\"><b>Total</b></td></tr><tr><td style=\"min-width:25px;border-right:1px solid #E0E0E0;padding:0px 2px 0px 2px;\">Unit Type 001 </td><td style=\"min-width:25px;border-right:1px solid #E0E0E0;padding:0px 2px 0px 2px;\">1</td><td style=\"min-width:25px;border-right:1px solid #E0E0E0;padding:0px 2px 0px 2px;\">5</td><td style=\"min-width:25px;border-right:1px solid #E0E0E0;padding:0px 2px 0px 2px;\">False</td><td style=\"min-width:25px;border-right:1px solid #E0E0E0;padding:0px 2px 0px 2px;\">$5.00</td></tr><tr><td style=\"min-width:25px;border-right:1px solid #E0E0E0;padding:0px 2px 0px 2px;\">Unit Type 002 </td><td style=\"min-width:25px;border-right:1px solid #E0E0E0;padding:0px 2px 0px 2px;\">2</td><td style=\"min-width:25px;border-right:1px solid #E0E0E0;padding:0px 2px 0px 2px;\">4</td><td style=\"min-width:25px;border-right:1px solid #E0E0E0;padding:0px 2px 0px 2px;\">False</td><td style=\"min-width:25px;border-right:1px solid #E0E0E0;padding:0px 2px 0px 2px;\">$8.00</td></tr><tr><td style=\"min-width:25px;border-right:1px solid #E0E0E0;padding:0px 2px 0px 2px;\">Unit Type 002 -PARKING</td><td style=\"min-width:25px;border-right:1px solid #E0E0E0;padding:0px 2px 0px 2px;\">3.5</td><td style=\"min-width:25px;border-right:1px solid #E0E0E0;padding:0px 2px 0px 2px;\">1</td><td style=\"min-width:25px;border-right:1px solid #E0E0E0;padding:0px 2px 0px 2px;\">False</td><td style=\"min-width:25px;border-right:1px solid #E0E0E0;padding:0px 2px 0px 2px;\">$3.50</td></tr></table><table><tr><td><b>Total Per Cycle Billing Amount</b></td></tr><tr><td style=\"padding-bottom:10px;\">$16.5</td></tr><tr><td><b>Total Unit Count</b></td></tr><tr><td style=\"padding-bottom:10px;\">10</td></tr></table></div><h3 style=\"margin-top:15px;font-weight:bold;\">Notes</h3>test'"
      ]
     },
     "execution_count": 188,
     "metadata": {},
     "output_type": "execute_result"
    }
   ],
   "source": [
    "html_table"
   ]
  },
  {
   "cell_type": "code",
   "execution_count": 105,
   "metadata": {},
   "outputs": [],
   "source": [
    "import re"
   ]
  },
  {
   "cell_type": "code",
   "execution_count": 119,
   "metadata": {},
   "outputs": [],
   "source": [
    "test_str = re.findall(r'<tr>(.*?)<\\/tr>',html_table)"
   ]
  },
  {
   "cell_type": "code",
   "execution_count": 120,
   "metadata": {},
   "outputs": [
    {
     "data": {
      "text/plain": [
       "list"
      ]
     },
     "execution_count": 120,
     "metadata": {},
     "output_type": "execute_result"
    }
   ],
   "source": [
    "type(test_str)"
   ]
  },
  {
   "cell_type": "code",
   "execution_count": 323,
   "metadata": {},
   "outputs": [],
   "source": [
    "value_list = []\n",
    "key_list = []\n",
    "dicts = {}"
   ]
  },
  {
   "cell_type": "code",
   "execution_count": 324,
   "metadata": {},
   "outputs": [],
   "source": [
    "for i in test_str:\n",
    "    ht_value = re.findall(r'<td style=\"min-width:100px;padding-left:10px;\">(.*?)</td>',i)\n",
    "    bf_key = re.findall(r'<td><b>(.*?)</b></td>',i)\n",
    "    bf_value = re.findall(r'<td style=\"padding-bottom:10px;\">(.*?)</td>',i)\n",
    "    key_list.append(bf_key)\n",
    "    value_list.append(bf_value)\n",
    "    value_list.append(ht_value)\n",
    "    key_list = [e for e in key_list if e]\n",
    "    value_list = [e for e in value_list if e]"
   ]
  },
  {
   "cell_type": "code",
   "execution_count": 325,
   "metadata": {},
   "outputs": [],
   "source": [
    "for n in range(len(key_list)):\n",
    "    dicts[key_list[n][0]] = value_list[n][0]\n",
    "    "
   ]
  },
  {
   "cell_type": "code",
   "execution_count": 334,
   "metadata": {},
   "outputs": [
    {
     "data": {
      "text/html": [
       "<div>\n",
       "<style scoped>\n",
       "    .dataframe tbody tr th:only-of-type {\n",
       "        vertical-align: middle;\n",
       "    }\n",
       "\n",
       "    .dataframe tbody tr th {\n",
       "        vertical-align: top;\n",
       "    }\n",
       "\n",
       "    .dataframe thead th {\n",
       "        text-align: right;\n",
       "    }\n",
       "</style>\n",
       "<table border=\"1\" class=\"dataframe\">\n",
       "  <thead>\n",
       "    <tr style=\"text-align: right;\">\n",
       "      <th></th>\n",
       "      <th>Key</th>\n",
       "      <th>Value</th>\n",
       "    </tr>\n",
       "  </thead>\n",
       "  <tbody>\n",
       "    <tr>\n",
       "      <th>0</th>\n",
       "      <td>Submitted By</td>\n",
       "      <td>Tim Rettich</td>\n",
       "    </tr>\n",
       "    <tr>\n",
       "      <th>1</th>\n",
       "      <td>Submitted On</td>\n",
       "      <td>7/17/2019 5:03:31 PM Central Time</td>\n",
       "    </tr>\n",
       "    <tr>\n",
       "      <th>2</th>\n",
       "      <td>Branch</td>\n",
       "      <td>BMC</td>\n",
       "    </tr>\n",
       "    <tr>\n",
       "      <th>3</th>\n",
       "      <td>Branch Id</td>\n",
       "      <td>83</td>\n",
       "    </tr>\n",
       "    <tr>\n",
       "      <th>4</th>\n",
       "      <td>Association</td>\n",
       "      <td>1 Demo Association</td>\n",
       "    </tr>\n",
       "    <tr>\n",
       "      <th>5</th>\n",
       "      <td>Association Id</td>\n",
       "      <td>9999</td>\n",
       "    </tr>\n",
       "    <tr>\n",
       "      <th>6</th>\n",
       "      <td>Do I need a proof before my order is mailed?</td>\n",
       "      <td>I would like to approve my order before it is ...</td>\n",
       "    </tr>\n",
       "    <tr>\n",
       "      <th>7</th>\n",
       "      <td>Type of Request- I am submitting</td>\n",
       "      <td>Recurring charges for a new association</td>\n",
       "    </tr>\n",
       "    <tr>\n",
       "      <th>8</th>\n",
       "      <td>Assessment Start Date</td>\n",
       "      <td>2019-8-1</td>\n",
       "    </tr>\n",
       "    <tr>\n",
       "      <th>9</th>\n",
       "      <td>Assessment End Date</td>\n",
       "      <td>2019-7-18</td>\n",
       "    </tr>\n",
       "    <tr>\n",
       "      <th>10</th>\n",
       "      <td>Billing Frequency</td>\n",
       "      <td>Quarterly</td>\n",
       "    </tr>\n",
       "    <tr>\n",
       "      <th>11</th>\n",
       "      <td>Billing Method</td>\n",
       "      <td>Statements</td>\n",
       "    </tr>\n",
       "    <tr>\n",
       "      <th>12</th>\n",
       "      <td>Additional Details</td>\n",
       "      <td>Ending Recurring Charges and not restarting.</td>\n",
       "    </tr>\n",
       "    <tr>\n",
       "      <th>13</th>\n",
       "      <td>Charge Type</td>\n",
       "      <td>Admin Fee - Demand/Arrears</td>\n",
       "    </tr>\n",
       "    <tr>\n",
       "      <th>14</th>\n",
       "      <td>Total Per Cycle Billing Amount</td>\n",
       "      <td>$16.5</td>\n",
       "    </tr>\n",
       "    <tr>\n",
       "      <th>15</th>\n",
       "      <td>Total Unit Count</td>\n",
       "      <td>10</td>\n",
       "    </tr>\n",
       "  </tbody>\n",
       "</table>\n",
       "</div>"
      ],
      "text/plain": [
       "                                             Key  \\\n",
       "0                                   Submitted By   \n",
       "1                                   Submitted On   \n",
       "2                                         Branch   \n",
       "3                                      Branch Id   \n",
       "4                                    Association   \n",
       "5                                 Association Id   \n",
       "6   Do I need a proof before my order is mailed?   \n",
       "7               Type of Request- I am submitting   \n",
       "8                          Assessment Start Date   \n",
       "9                            Assessment End Date   \n",
       "10                             Billing Frequency   \n",
       "11                                Billing Method   \n",
       "12                            Additional Details   \n",
       "13                                   Charge Type   \n",
       "14                Total Per Cycle Billing Amount   \n",
       "15                              Total Unit Count   \n",
       "\n",
       "                                                Value  \n",
       "0                                         Tim Rettich  \n",
       "1                   7/17/2019 5:03:31 PM Central Time  \n",
       "2                                                 BMC  \n",
       "3                                                  83  \n",
       "4                                  1 Demo Association  \n",
       "5                                                9999  \n",
       "6   I would like to approve my order before it is ...  \n",
       "7             Recurring charges for a new association  \n",
       "8                                            2019-8-1  \n",
       "9                                           2019-7-18  \n",
       "10                                          Quarterly  \n",
       "11                                         Statements  \n",
       "12       Ending Recurring Charges and not restarting.  \n",
       "13                     Admin Fee - Demand/Arrears      \n",
       "14                                              $16.5  \n",
       "15                                                 10  "
      ]
     },
     "execution_count": 334,
     "metadata": {},
     "output_type": "execute_result"
    }
   ],
   "source": [
    "pd.DataFrame(list(dicts.items()),columns = ['Key','Value'])"
   ]
  },
  {
   "cell_type": "code",
   "execution_count": 377,
   "metadata": {},
   "outputs": [],
   "source": [
    "type_str_lst = []\n",
    "title_str_lst = []"
   ]
  },
  {
   "cell_type": "code",
   "execution_count": 378,
   "metadata": {},
   "outputs": [],
   "source": [
    "for i in test_str:\n",
    "    title_value = re.findall(r'<td style=\"min-width:25px;border-right:1px solid #E0E0E0;padding:0px 2px 0px 2px;\"><b>(.*?)</b></td>',i)\n",
    "    type_value = re.findall(r'<td style=\"min-width:25px;border-right:1px solid #E0E0E0;padding:0px 2px 0px 2px;\">(.*?)</td>',i)\n",
    "    title_str_lst.append(title_value)\n",
    "    type_str_lst.append(type_value)\n",
    "    type_str_lst = [e for e in type_str_lst if e]\n",
    "    title_str_lst = [e for e in title_str_lst if e]"
   ]
  },
  {
   "cell_type": "code",
   "execution_count": 383,
   "metadata": {},
   "outputs": [],
   "source": [
    "type_df = pd.DataFrame(columns = title_str_lst[0])"
   ]
  },
  {
   "cell_type": "code",
   "execution_count": 380,
   "metadata": {},
   "outputs": [],
   "source": [
    "del type_str_lst[0]"
   ]
  },
  {
   "cell_type": "code",
   "execution_count": 382,
   "metadata": {},
   "outputs": [
    {
     "data": {
      "text/plain": [
       "[['Unit Type 001 ', '1', '5', 'False', '$5.00'],\n",
       " ['Unit Type 002 ', '2', '4', 'False', '$8.00'],\n",
       " ['Unit Type 002 -PARKING', '3.5', '1', 'False', '$3.50']]"
      ]
     },
     "execution_count": 382,
     "metadata": {},
     "output_type": "execute_result"
    }
   ],
   "source": [
    "type_str_lst"
   ]
  },
  {
   "cell_type": "code",
   "execution_count": 385,
   "metadata": {},
   "outputs": [
    {
     "data": {
      "text/html": [
       "<div>\n",
       "<style scoped>\n",
       "    .dataframe tbody tr th:only-of-type {\n",
       "        vertical-align: middle;\n",
       "    }\n",
       "\n",
       "    .dataframe tbody tr th {\n",
       "        vertical-align: top;\n",
       "    }\n",
       "\n",
       "    .dataframe thead th {\n",
       "        text-align: right;\n",
       "    }\n",
       "</style>\n",
       "<table border=\"1\" class=\"dataframe\">\n",
       "  <thead>\n",
       "    <tr style=\"text-align: right;\">\n",
       "      <th></th>\n",
       "      <th>Unit Type</th>\n",
       "      <th>Assessment Amount</th>\n",
       "      <th># of Units</th>\n",
       "      <th>Paid by Direct Debit?</th>\n",
       "      <th>Total</th>\n",
       "    </tr>\n",
       "  </thead>\n",
       "  <tbody>\n",
       "  </tbody>\n",
       "</table>\n",
       "</div>"
      ],
      "text/plain": [
       "Empty DataFrame\n",
       "Columns: [Unit Type, Assessment Amount, # of Units, Paid by Direct Debit?, Total]\n",
       "Index: []"
      ]
     },
     "execution_count": 385,
     "metadata": {},
     "output_type": "execute_result"
    }
   ],
   "source": [
    "type_df"
   ]
  },
  {
   "cell_type": "code",
   "execution_count": 402,
   "metadata": {},
   "outputs": [],
   "source": [
    "for i in range(len(type_str_lst)):\n",
    "    type_df = type_df.append({'Unit Type':type_str_lst[i][0],'Assessment Amount':type_str_lst[i][1],\n",
    "                   '# of Units':type_str_lst[i][2],'Paid by Direct Debit?':type_str_lst[i][3],\n",
    "                   'Total':type_str_lst[i][4]},ignore_index = True)"
   ]
  },
  {
   "cell_type": "code",
   "execution_count": 403,
   "metadata": {},
   "outputs": [
    {
     "data": {
      "text/html": [
       "<div>\n",
       "<style scoped>\n",
       "    .dataframe tbody tr th:only-of-type {\n",
       "        vertical-align: middle;\n",
       "    }\n",
       "\n",
       "    .dataframe tbody tr th {\n",
       "        vertical-align: top;\n",
       "    }\n",
       "\n",
       "    .dataframe thead th {\n",
       "        text-align: right;\n",
       "    }\n",
       "</style>\n",
       "<table border=\"1\" class=\"dataframe\">\n",
       "  <thead>\n",
       "    <tr style=\"text-align: right;\">\n",
       "      <th></th>\n",
       "      <th>Unit Type</th>\n",
       "      <th>Assessment Amount</th>\n",
       "      <th># of Units</th>\n",
       "      <th>Paid by Direct Debit?</th>\n",
       "      <th>Total</th>\n",
       "    </tr>\n",
       "  </thead>\n",
       "  <tbody>\n",
       "    <tr>\n",
       "      <th>0</th>\n",
       "      <td>Unit Type 001</td>\n",
       "      <td>1</td>\n",
       "      <td>5</td>\n",
       "      <td>False</td>\n",
       "      <td>$5.00</td>\n",
       "    </tr>\n",
       "    <tr>\n",
       "      <th>1</th>\n",
       "      <td>Unit Type 002</td>\n",
       "      <td>2</td>\n",
       "      <td>4</td>\n",
       "      <td>False</td>\n",
       "      <td>$8.00</td>\n",
       "    </tr>\n",
       "    <tr>\n",
       "      <th>2</th>\n",
       "      <td>Unit Type 002 -PARKING</td>\n",
       "      <td>3.5</td>\n",
       "      <td>1</td>\n",
       "      <td>False</td>\n",
       "      <td>$3.50</td>\n",
       "    </tr>\n",
       "  </tbody>\n",
       "</table>\n",
       "</div>"
      ],
      "text/plain": [
       "                Unit Type Assessment Amount # of Units Paid by Direct Debit?  \\\n",
       "0          Unit Type 001                  1          5                 False   \n",
       "1          Unit Type 002                  2          4                 False   \n",
       "2  Unit Type 002 -PARKING               3.5          1                 False   \n",
       "\n",
       "   Total  \n",
       "0  $5.00  \n",
       "1  $8.00  \n",
       "2  $3.50  "
      ]
     },
     "execution_count": 403,
     "metadata": {},
     "output_type": "execute_result"
    }
   ],
   "source": [
    "type_df"
   ]
  }
 ],
 "metadata": {
  "kernelspec": {
   "display_name": "Python 3",
   "language": "python",
   "name": "python3"
  },
  "language_info": {
   "codemirror_mode": {
    "name": "ipython",
    "version": 3
   },
   "file_extension": ".py",
   "mimetype": "text/x-python",
   "name": "python",
   "nbconvert_exporter": "python",
   "pygments_lexer": "ipython3",
   "version": "3.7.1"
  }
 },
 "nbformat": 4,
 "nbformat_minor": 2
}
